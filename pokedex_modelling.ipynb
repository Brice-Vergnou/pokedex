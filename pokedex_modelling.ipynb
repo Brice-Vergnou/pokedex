{
 "cells": [
  {
   "cell_type": "code",
   "execution_count": 4,
   "id": "7d2910c3",
   "metadata": {},
   "outputs": [],
   "source": [
    "import zipfile\n",
    "\n",
    "# Unzip the downloaded file ( https://www.kaggle.com/lantian773030/pokemonclassification )\n",
    "zip_ref = zipfile.ZipFile(\"archive.zip\", \"r\")\n",
    "zip_ref.extractall()\n",
    "zip_ref.close()"
   ]
  },
  {
   "cell_type": "code",
   "execution_count": 6,
   "id": "f6ef6eec",
   "metadata": {},
   "outputs": [],
   "source": [
    "# Delete the archive\n",
    "!del /f archive.zip"
   ]
  },
  {
   "cell_type": "code",
   "execution_count": null,
   "id": "7ad2ea50",
   "metadata": {},
   "outputs": [],
   "source": []
  }
 ],
 "metadata": {
  "kernelspec": {
   "display_name": "Python 3 (ipykernel)",
   "language": "python",
   "name": "python3"
  },
  "language_info": {
   "codemirror_mode": {
    "name": "ipython",
    "version": 3
   },
   "file_extension": ".py",
   "mimetype": "text/x-python",
   "name": "python",
   "nbconvert_exporter": "python",
   "pygments_lexer": "ipython3",
   "version": "3.9.7"
  }
 },
 "nbformat": 4,
 "nbformat_minor": 5
}
