{
 "cells": [
  {
   "cell_type": "markdown",
   "id": "4b83c5e4",
   "metadata": {},
   "source": [
    "# Pokedex modelling"
   ]
  },
  {
   "cell_type": "markdown",
   "id": "64f59485",
   "metadata": {},
   "source": [
    "In this notebook, I'll be trying to make a computer vision model able to recognize among [50 of the most used Pokemons in OverUsed](https://www.pikalytics.com/pokedex/gen8ou) to be able to recognize them during battles, and quickly get data about this pokemon with the other part of this project."
   ]
  },
  {
   "cell_type": "markdown",
   "id": "506b6588",
   "metadata": {},
   "source": [
    "This modelling process was really tricky for two reasons :\n",
    "\n",
    "* As I didn't have access to my laptop for a long period, I had to code on my phone, on Colab. (that's why all my experiments don't appear, as I kept on modifying the same cell over and over until I had satisfying result)\n",
    "* The data was rare. For every class, the number of available pictures varies from 15 to 60. It's obviously super low and, even though I tried going with a CNN and had a satisfying result (85%), I discovered how to mix deep learning and random forests to handle that lack of data"
   ]
  },
  {
   "cell_type": "markdown",
   "id": "f2666391",
   "metadata": {},
   "source": [
    "## Getting data ready"
   ]
  },
  {
   "cell_type": "markdown",
   "id": "30daddeb",
   "metadata": {},
   "source": [
    "The first step was to turn all of the data into two train and test datasets. Fortunately, [this script](https://stackoverflow.com/questions/57394135/split-image-dataset-into-train-test-datasets) was definitely helpful for that"
   ]
  },
  {
   "cell_type": "code",
   "execution_count": 2,
   "id": "eb7fafb3",
   "metadata": {
    "id": "eb7fafb3"
   },
   "outputs": [],
   "source": [
    "# https://stackoverflow.com/questions/57394135/split-image-dataset-into-train-test-datasets\n",
    "\n",
    "import os\n",
    "import shutil\n",
    "import numpy as np\n",
    "import argparse\n",
    "\n",
    "def get_files_from_folder(path):\n",
    "    files = os.listdir(path)\n",
    "    return np.asarray(files)\n",
    "\n",
    "def edit_files(path_to_data, path_to_test_data, train_ratio):\n",
    "    # get dirs\n",
    "    _, dirs, _ = next(os.walk(path_to_data))\n",
    "\n",
    "    # calculates how many train data per class\n",
    "    data_counter_per_class = np.zeros((len(dirs)))\n",
    "    for i in range(len(dirs)):\n",
    "        path = os.path.join(path_to_data, dirs[i])\n",
    "        files = get_files_from_folder(path)\n",
    "        data_counter_per_class[i] = len(files)\n",
    "    test_counter = np.round(data_counter_per_class * (1 - train_ratio))\n",
    "\n",
    "    # transfers files\n",
    "    for i in range(len(dirs)):\n",
    "        path_to_original = os.path.join(path_to_data, dirs[i])\n",
    "        path_to_save = os.path.join(path_to_test_data, dirs[i])\n",
    "\n",
    "        #creates dir\n",
    "        if not os.path.exists(path_to_save):\n",
    "            os.makedirs(path_to_save)\n",
    "        files = get_files_from_folder(path_to_original)\n",
    "        # moves data\n",
    "        for j in range(int(test_counter[i])):\n",
    "            dst = os.path.join(path_to_save, files[j])\n",
    "            src = os.path.join(path_to_original, files[j])\n",
    "            shutil.move(src, dst)\n",
    "\n",
    "\n",
    "edit_files(\"/content/drive/MyDrive/data/PokemonData\", \"/content/drive/MyDrive/data/PokemonData/test_data/\", 0.85)\n",
    "\n",
    "# # And then we move the train files into a fresh directory, and think about removing the test_data folder generated in the test_data"
   ]
  },
  {
   "cell_type": "code",
   "execution_count": 29,
   "id": "09ab4a21",
   "metadata": {
    "colab": {
     "base_uri": "https://localhost:8080/"
    },
    "id": "09ab4a21",
    "outputId": "efa4b4dd-2312-42a7-9fb4-87045f5728f9"
   },
   "outputs": [
    {
     "data": {
      "text/plain": [
       "(array(['aegislash', 'alakazam', 'bisharp', 'blacephalon', 'blissey',\n",
       "        'buzzwole', 'chansey', 'charizard', 'clefable', 'corviknight',\n",
       "        'crawdaunt', 'dragapult', 'dragonite', 'excadrill', 'ferrothorn',\n",
       "        'garchomp', 'hawlucha', 'heatran', 'hippowdon', 'hydreigon',\n",
       "        'kartana', 'kommo-o', 'kyurem', 'landorus-therian', 'lucario',\n",
       "        'magnezone', 'melmetal', 'mew', 'moltres-galar', 'nidoking',\n",
       "        'pelipper', 'rillaboom', 'rotom-wash', 'scizor', 'skarmory',\n",
       "        'tangrowth', 'tapu fini', 'tapu koko', 'tapu lele', 'torkoal',\n",
       "        'tornadus-therian', 'toxapex', 'tyranitar', 'urshifu', 'victini',\n",
       "        'volcarona', 'weavile', 'zapdos', 'zapdos-galar', 'zeraora'],\n",
       "       dtype='<U16'),\n",
       " 50)"
      ]
     },
     "execution_count": 29,
     "metadata": {},
     "output_type": "execute_result"
    }
   ],
   "source": [
    "# Get the class names (programmatically, this is much more helpful with a longer list of classes)\n",
    "import pathlib\n",
    "import numpy as np\n",
    "data_dir = pathlib.Path(\"PokemonData/train_data\") # turn our training path into a Python path\n",
    "class_names = np.array(sorted([item.name for item in data_dir.glob('*')])) # created a list of class_names from the subdirectories\n",
    "class_names, len(class_names)"
   ]
  },
  {
   "cell_type": "code",
   "execution_count": 74,
   "id": "a8204255",
   "metadata": {
    "id": "a8204255"
   },
   "outputs": [],
   "source": [
    "#View an image\n",
    "import matplotlib.pyplot as plt\n",
    "import matplotlib.image as mpimg\n",
    "import random\n",
    "\n",
    "def view_image(index_class_name):\n",
    "    target_folder = f\"PokemonData/train_data/{class_names[index_class_name]}\"\n",
    "    \n",
    "    random_image = random.sample(os.listdir(target_folder), 1) #Select a random image from the selected directory\n",
    "    \n",
    "    # Read the image\n",
    "    img = mpimg.imread(target_folder+\"/\"+random_image[0])\n",
    "    plt.figure(figsize=(7, 7))\n",
    "    plt.imshow(img)\n",
    "    plt.title(class_names[index_class_name])\n",
    "    plt.axis(\"off\")\n",
    "    \n",
    "    # Print stats\n",
    "    print(f\"Image shape: {img.shape}\\n\\n\")\n",
    "    print(img[0][:3])"
   ]
  },
  {
   "cell_type": "code",
   "execution_count": 95,
   "id": "c3990c19",
   "metadata": {
    "colab": {
     "base_uri": "https://localhost:8080/",
     "height": 531
    },
    "id": "c3990c19",
    "outputId": "b9a04c7a-ac15-4103-f565-e74980d3ad93"
   },
   "outputs": [
    {
     "name": "stdout",
     "output_type": "stream",
     "text": [
      "Image shape: (300, 236, 3)\n",
      "\n",
      "\n",
      "[[0. 0. 0.]\n",
      " [0. 0. 0.]\n",
      " [0. 0. 0.]]\n"
     ]
    },
    {
     "data": {
      "image/png": "[encoded data removed]",
      "text/plain": [
       "<Figure size 504x504 with 1 Axes>"
      ]
     },
     "metadata": {
      "needs_background": "light"
     },
     "output_type": "display_data"
    }
   ],
   "source": [
    "random_number = random.randint(0, 50)\n",
    "\n",
    "view_image(random_number)"
   ]
  },
  {
   "cell_type": "code",
   "execution_count": 3,
   "id": "6ad55284",
   "metadata": {
    "id": "6ad55284"
   },
   "outputs": [],
   "source": [
    "train_dir = \"PokemonData/train_data/\"\n",
    "test_dir= \"PokemonData/test_data/\""
   ]
  },
  {
   "cell_type": "code",
   "execution_count": 4,
   "id": "1ac1dad6",
   "metadata": {
    "colab": {
     "base_uri": "https://localhost:8080/"
    },
    "id": "1ac1dad6",
    "outputId": "c784f68b-07a1-4358-e269-c7665fcf89a2"
   },
   "outputs": [
    {
     "name": "stdout",
     "output_type": "stream",
     "text": [
      "Found 2574 images belonging to 50 classes.\n",
      "Found 205 images belonging to 50 classes.\n"
     ]
    }
   ],
   "source": [
    "# Create train and test data generators and rescale the data \n",
    "from tensorflow.keras.preprocessing.image import ImageDataGenerator\n",
    "train_datagen = ImageDataGenerator(rescale=1/255.)\n",
    "test_datagen = ImageDataGenerator(rescale=1/255.)\n",
    "\n",
    "train_data = train_datagen.flow_from_directory(directory=train_dir,\n",
    "                                               target_size=(200, 200),\n",
    "                                               class_mode='binary',\n",
    "                                               batch_size=32)\n",
    "\n",
    "test_data = test_datagen.flow_from_directory(directory=test_dir,\n",
    "                                             target_size=(200, 200),\n",
    "                                             class_mode='binary',\n",
    "                                             batch_size=32)"
   ]
  },
  {
   "cell_type": "markdown",
   "id": "c9cd3534",
   "metadata": {},
   "source": [
    "## Getting helper functions for modelling"
   ]
  },
  {
   "cell_type": "code",
   "execution_count": 5,
   "id": "b43b9936",
   "metadata": {
    "id": "b43b9936"
   },
   "outputs": [],
   "source": [
    "# Create tensorboard callback (functionized because need to create a new one for each model)\n",
    "import datetime\n",
    "def create_tensorboard_callback(dir_name, experiment_name):\n",
    "  log_dir = dir_name + \"/\" + experiment_name + \"/\" + datetime.datetime.now().strftime(\"%Y%m%d-%H%M%S\")\n",
    "  tensorboard_callback = tf.keras.callbacks.TensorBoard(\n",
    "      log_dir=log_dir\n",
    "  )\n",
    "  print(f\"Saving TensorBoard log files to: {log_dir}\")\n",
    "  return tensorboard_callback"
   ]
  },
  {
   "cell_type": "code",
   "execution_count": 14,
   "id": "ebe4e9b2",
   "metadata": {
    "id": "ebe4e9b2"
   },
   "outputs": [],
   "source": [
    "import matplotlib.pyplot as plt\n",
    "\n",
    "def plot_loss_curves(history):\n",
    "  \"\"\"\n",
    "  Returns separate loss curves for training and validation metrics.\n",
    "  Args:\n",
    "    history: TensorFlow model History object (see: https://www.tensorflow.org/api_docs/python/tf/keras/callbacks/History)\n",
    "  \"\"\" \n",
    "  loss = history.history['loss']\n",
    "  val_loss = history.history['val_loss']\n",
    "\n",
    "  accuracy = history.history['accuracy']\n",
    "  val_accuracy = history.history['val_accuracy']\n",
    "\n",
    "  epochs = range(len(history.history['loss']))\n",
    "\n",
    "  # Plot loss\n",
    "  plt.plot(epochs, loss, label='training_loss')\n",
    "  plt.plot(epochs, val_loss, label='val_loss')\n",
    "  plt.title('Loss')\n",
    "  plt.xlabel('Epochs')\n",
    "  plt.legend()\n",
    "\n",
    "  # Plot accuracy\n",
    "  plt.figure()\n",
    "  plt.plot(epochs, accuracy, label='training_accuracy')\n",
    "  plt.plot(epochs, val_accuracy, label='val_accuracy')\n",
    "  plt.title('Accuracy')\n",
    "  plt.xlabel('Epochs')\n",
    "  plt.legend();"
   ]
  },
  {
   "cell_type": "markdown",
   "id": "54376002",
   "metadata": {},
   "source": [
    "## First model : pure CNN\n",
    "\n",
    "Using a low enough learning rate, ReduceLROnPlateau and Early Stopping I managed to find a way of getting a good result with CNN, despite my lack of data"
   ]
  },
  {
   "cell_type": "code",
   "execution_count": 2,
   "id": "bdfab80f",
   "metadata": {
    "id": "bdfab80f"
   },
   "outputs": [],
   "source": [
    "import tensorflow as tf\n",
    "from tensorflow.keras import layers"
   ]
  },
  {
   "cell_type": "code",
   "execution_count": 9,
   "id": "737bd773",
   "metadata": {},
   "outputs": [],
   "source": [
    "early_stopping = tf.keras.callbacks.EarlyStopping(monitor=\"val_loss\", # watch the val loss metric\n",
    "                                                  patience=10)\n",
    "\n",
    "reduce_lr = tf.keras.callbacks.ReduceLROnPlateau(monitor=\"val_loss\",  \n",
    "                                                 factor=0.2, # multiply the learning rate by 0.2 (reduce by 5x)\n",
    "                                                 patience=4,\n",
    "                                                 verbose=1, # print out when learning rate goes down \n",
    "                                                 min_lr=1e-7)"
   ]
  },
  {
   "cell_type": "code",
   "execution_count": 15,
   "id": "b09ef21f",
   "metadata": {},
   "outputs": [
    {
     "name": "stdout",
     "output_type": "stream",
     "text": [
      "Saving TensorBoard log files to: tensorboard/baseline/20220102-165140\n",
      "Epoch 1/150\n",
      "81/81 [==============================] - ETA: 0s - loss: 3.8897 - accuracy: 0.0326\n",
      "Epoch 00001: val_accuracy improved from -inf to 0.03902, saving model to model_checkpoints\\cp_test.ckpt\n",
      "81/81 [==============================] - 36s 436ms/step - loss: 3.8897 - accuracy: 0.0326 - val_loss: 3.8392 - val_accuracy: 0.0390 - lr: 7.0000e-04\n",
      "Epoch 2/150\n",
      "81/81 [==============================] - ETA: 0s - loss: 3.7995 - accuracy: 0.0400\n",
      "Epoch 00002: val_accuracy did not improve from 0.03902\n",
      "81/81 [==============================] - 36s 446ms/step - loss: 3.7995 - accuracy: 0.0400 - val_loss: 3.6349 - val_accuracy: 0.0390 - lr: 7.0000e-04\n",
      "Epoch 3/150\n",
      "81/81 [==============================] - ETA: 0s - loss: 3.5268 - accuracy: 0.0917\n",
      "Epoch 00003: val_accuracy improved from 0.03902 to 0.13659, saving model to model_checkpoints\\cp_test.ckpt\n",
      "81/81 [==============================] - 36s 450ms/step - loss: 3.5268 - accuracy: 0.0917 - val_loss: 3.3096 - val_accuracy: 0.1366 - lr: 7.0000e-04\n",
      "Epoch 4/150\n",
      "81/81 [==============================] - ETA: 0s - loss: 3.2520 - accuracy: 0.1360\n",
      "Epoch 00004: val_accuracy improved from 0.13659 to 0.18537, saving model to model_checkpoints\\cp_test.ckpt\n",
      "81/81 [==============================] - 37s 450ms/step - loss: 3.2520 - accuracy: 0.1360 - val_loss: 3.1036 - val_accuracy: 0.1854 - lr: 7.0000e-04\n",
      "Epoch 5/150\n",
      "81/81 [==============================] - ETA: 0s - loss: 3.0539 - accuracy: 0.1861\n",
      "Epoch 00005: val_accuracy improved from 0.18537 to 0.21463, saving model to model_checkpoints\\cp_test.ckpt\n",
      "81/81 [==============================] - 37s 451ms/step - loss: 3.0539 - accuracy: 0.1861 - val_loss: 2.9248 - val_accuracy: 0.2146 - lr: 7.0000e-04\n",
      "Epoch 6/150\n",
      "81/81 [==============================] - ETA: 0s - loss: 2.8841 - accuracy: 0.2292\n",
      "Epoch 00006: val_accuracy improved from 0.21463 to 0.26341, saving model to model_checkpoints\\cp_test.ckpt\n",
      "81/81 [==============================] - 37s 450ms/step - loss: 2.8841 - accuracy: 0.2292 - val_loss: 2.7819 - val_accuracy: 0.2634 - lr: 7.0000e-04\n",
      "Epoch 7/150\n",
      "81/81 [==============================] - ETA: 0s - loss: 2.7644 - accuracy: 0.2529\n",
      "Epoch 00007: val_accuracy did not improve from 0.26341\n",
      "81/81 [==============================] - 36s 449ms/step - loss: 2.7644 - accuracy: 0.2529 - val_loss: 2.8543 - val_accuracy: 0.2488 - lr: 7.0000e-04\n",
      "Epoch 8/150\n",
      "81/81 [==============================] - ETA: 0s - loss: 2.6739 - accuracy: 0.2813\n",
      "Epoch 00008: val_accuracy improved from 0.26341 to 0.34634, saving model to model_checkpoints\\cp_test.ckpt\n",
      "81/81 [==============================] - 37s 451ms/step - loss: 2.6739 - accuracy: 0.2813 - val_loss: 2.4979 - val_accuracy: 0.3463 - lr: 7.0000e-04\n",
      "Epoch 9/150\n",
      "81/81 [==============================] - ETA: 0s - loss: 2.5312 - accuracy: 0.3248\n",
      "Epoch 00009: val_accuracy improved from 0.34634 to 0.36585, saving model to model_checkpoints\\cp_test.ckpt\n",
      "81/81 [==============================] - 36s 447ms/step - loss: 2.5312 - accuracy: 0.3248 - val_loss: 2.3669 - val_accuracy: 0.3659 - lr: 7.0000e-04\n",
      "Epoch 10/150\n",
      "81/81 [==============================] - ETA: 0s - loss: 2.4147 - accuracy: 0.3485\n",
      "Epoch 00010: val_accuracy improved from 0.36585 to 0.40000, saving model to model_checkpoints\\cp_test.ckpt\n",
      "81/81 [==============================] - 37s 456ms/step - loss: 2.4147 - accuracy: 0.3485 - val_loss: 2.2411 - val_accuracy: 0.4000 - lr: 7.0000e-04\n",
      "Epoch 11/150\n",
      "81/81 [==============================] - ETA: 0s - loss: 2.3066 - accuracy: 0.3780\n",
      "Epoch 00011: val_accuracy improved from 0.40000 to 0.44390, saving model to model_checkpoints\\cp_test.ckpt\n",
      "81/81 [==============================] - 36s 447ms/step - loss: 2.3066 - accuracy: 0.3780 - val_loss: 2.1638 - val_accuracy: 0.4439 - lr: 7.0000e-04\n",
      "Epoch 12/150\n",
      "81/81 [==============================] - ETA: 0s - loss: 2.1411 - accuracy: 0.4099\n",
      "Epoch 00012: val_accuracy improved from 0.44390 to 0.52195, saving model to model_checkpoints\\cp_test.ckpt\n",
      "81/81 [==============================] - 36s 446ms/step - loss: 2.1411 - accuracy: 0.4099 - val_loss: 1.9928 - val_accuracy: 0.5220 - lr: 7.0000e-04\n",
      "Epoch 13/150\n",
      "81/81 [==============================] - ETA: 0s - loss: 2.0603 - accuracy: 0.4266\n",
      "Epoch 00013: val_accuracy improved from 0.52195 to 0.58537, saving model to model_checkpoints\\cp_test.ckpt\n",
      "81/81 [==============================] - 36s 446ms/step - loss: 2.0603 - accuracy: 0.4266 - val_loss: 1.8133 - val_accuracy: 0.5854 - lr: 7.0000e-04\n",
      "Epoch 14/150\n",
      "81/81 [==============================] - ETA: 0s - loss: 1.9419 - accuracy: 0.4577\n",
      "Epoch 00014: val_accuracy improved from 0.58537 to 0.60000, saving model to model_checkpoints\\cp_test.ckpt\n",
      "81/81 [==============================] - 36s 446ms/step - loss: 1.9419 - accuracy: 0.4577 - val_loss: 1.6938 - val_accuracy: 0.6000 - lr: 7.0000e-04\n",
      "Epoch 15/150\n",
      "81/81 [==============================] - ETA: 0s - loss: 1.8221 - accuracy: 0.4953\n",
      "Epoch 00015: val_accuracy improved from 0.60000 to 0.62927, saving model to model_checkpoints\\cp_test.ckpt\n",
      "81/81 [==============================] - 36s 446ms/step - loss: 1.8221 - accuracy: 0.4953 - val_loss: 1.6197 - val_accuracy: 0.6293 - lr: 7.0000e-04\n",
      "Epoch 16/150\n",
      "81/81 [==============================] - ETA: 0s - loss: 1.7093 - accuracy: 0.5186\n",
      "Epoch 00016: val_accuracy improved from 0.62927 to 0.65366, saving model to model_checkpoints\\cp_test.ckpt\n",
      "81/81 [==============================] - 36s 448ms/step - loss: 1.7093 - accuracy: 0.5186 - val_loss: 1.4884 - val_accuracy: 0.6537 - lr: 7.0000e-04\n",
      "Epoch 17/150\n",
      "81/81 [==============================] - ETA: 0s - loss: 1.6377 - accuracy: 0.5404\n",
      "Epoch 00017: val_accuracy did not improve from 0.65366\n",
      "81/81 [==============================] - 36s 447ms/step - loss: 1.6377 - accuracy: 0.5404 - val_loss: 1.5216 - val_accuracy: 0.6488 - lr: 7.0000e-04\n",
      "Epoch 18/150\n",
      "81/81 [==============================] - ETA: 0s - loss: 1.5849 - accuracy: 0.5431\n",
      "Epoch 00018: val_accuracy improved from 0.65366 to 0.66341, saving model to model_checkpoints\\cp_test.ckpt\n",
      "81/81 [==============================] - 36s 448ms/step - loss: 1.5849 - accuracy: 0.5431 - val_loss: 1.3699 - val_accuracy: 0.6634 - lr: 7.0000e-04\n",
      "Epoch 19/150\n",
      "81/81 [==============================] - ETA: 0s - loss: 1.5091 - accuracy: 0.5660\n",
      "Epoch 00019: val_accuracy improved from 0.66341 to 0.68780, saving model to model_checkpoints\\cp_test.ckpt\n",
      "81/81 [==============================] - 36s 447ms/step - loss: 1.5091 - accuracy: 0.5660 - val_loss: 1.3596 - val_accuracy: 0.6878 - lr: 7.0000e-04\n",
      "Epoch 20/150\n",
      "81/81 [==============================] - ETA: 0s - loss: 1.4380 - accuracy: 0.5940\n",
      "Epoch 00020: val_accuracy improved from 0.68780 to 0.69756, saving model to model_checkpoints\\cp_test.ckpt\n",
      "81/81 [==============================] - 36s 447ms/step - loss: 1.4380 - accuracy: 0.5940 - val_loss: 1.2270 - val_accuracy: 0.6976 - lr: 7.0000e-04\n",
      "Epoch 21/150\n",
      "81/81 [==============================] - ETA: 0s - loss: 1.3860 - accuracy: 0.6010\n",
      "Epoch 00021: val_accuracy did not improve from 0.69756\n",
      "81/81 [==============================] - 36s 446ms/step - loss: 1.3860 - accuracy: 0.6010 - val_loss: 1.3807 - val_accuracy: 0.6829 - lr: 7.0000e-04\n",
      "Epoch 22/150\n",
      "81/81 [==============================] - ETA: 0s - loss: 1.3369 - accuracy: 0.6216\n",
      "Epoch 00022: val_accuracy improved from 0.69756 to 0.71707, saving model to model_checkpoints\\cp_test.ckpt\n",
      "81/81 [==============================] - 36s 448ms/step - loss: 1.3369 - accuracy: 0.6216 - val_loss: 1.2807 - val_accuracy: 0.7171 - lr: 7.0000e-04\n",
      "Epoch 23/150\n",
      "81/81 [==============================] - ETA: 0s - loss: 1.2776 - accuracy: 0.6259\n",
      "Epoch 00023: val_accuracy improved from 0.71707 to 0.75610, saving model to model_checkpoints\\cp_test.ckpt\n",
      "81/81 [==============================] - 36s 450ms/step - loss: 1.2776 - accuracy: 0.6259 - val_loss: 1.1550 - val_accuracy: 0.7561 - lr: 7.0000e-04\n",
      "Epoch 24/150\n",
      "81/81 [==============================] - ETA: 0s - loss: 1.2235 - accuracy: 0.6263\n",
      "Epoch 00024: val_accuracy improved from 0.75610 to 0.76098, saving model to model_checkpoints\\cp_test.ckpt\n",
      "81/81 [==============================] - 36s 446ms/step - loss: 1.2235 - accuracy: 0.6263 - val_loss: 1.1696 - val_accuracy: 0.7610 - lr: 7.0000e-04\n"
     ]
    },
    {
     "name": "stdout",
     "output_type": "stream",
     "text": [
      "Epoch 25/150\n",
      "81/81 [==============================] - ETA: 0s - loss: 1.1716 - accuracy: 0.6554\n",
      "Epoch 00025: val_accuracy did not improve from 0.76098\n",
      "81/81 [==============================] - 36s 447ms/step - loss: 1.1716 - accuracy: 0.6554 - val_loss: 1.3387 - val_accuracy: 0.7171 - lr: 7.0000e-04\n",
      "Epoch 26/150\n",
      "81/81 [==============================] - ETA: 0s - loss: 1.1742 - accuracy: 0.6535\n",
      "Epoch 00026: val_accuracy did not improve from 0.76098\n",
      "81/81 [==============================] - 38s 466ms/step - loss: 1.1742 - accuracy: 0.6535 - val_loss: 1.1269 - val_accuracy: 0.7366 - lr: 7.0000e-04\n",
      "Epoch 27/150\n",
      "81/81 [==============================] - ETA: 0s - loss: 1.1232 - accuracy: 0.6643\n",
      "Epoch 00027: val_accuracy did not improve from 0.76098\n",
      "81/81 [==============================] - 36s 447ms/step - loss: 1.1232 - accuracy: 0.6643 - val_loss: 1.0915 - val_accuracy: 0.7610 - lr: 7.0000e-04\n",
      "Epoch 28/150\n",
      "81/81 [==============================] - ETA: 0s - loss: 1.0401 - accuracy: 0.6896\n",
      "Epoch 00028: val_accuracy improved from 0.76098 to 0.76585, saving model to model_checkpoints\\cp_test.ckpt\n",
      "81/81 [==============================] - 36s 447ms/step - loss: 1.0401 - accuracy: 0.6896 - val_loss: 1.1339 - val_accuracy: 0.7659 - lr: 7.0000e-04\n",
      "Epoch 29/150\n",
      "81/81 [==============================] - ETA: 0s - loss: 1.0441 - accuracy: 0.6814\n",
      "Epoch 00029: val_accuracy improved from 0.76585 to 0.78537, saving model to model_checkpoints\\cp_test.ckpt\n",
      "81/81 [==============================] - 36s 446ms/step - loss: 1.0441 - accuracy: 0.6814 - val_loss: 1.1128 - val_accuracy: 0.7854 - lr: 7.0000e-04\n",
      "Epoch 30/150\n",
      "81/81 [==============================] - ETA: 0s - loss: 1.0001 - accuracy: 0.6876 ETA: 3s - loss: 0.9787 \n",
      "Epoch 00030: val_accuracy did not improve from 0.78537\n",
      "81/81 [==============================] - 36s 446ms/step - loss: 1.0001 - accuracy: 0.6876 - val_loss: 1.0401 - val_accuracy: 0.7854 - lr: 7.0000e-04\n",
      "Epoch 31/150\n",
      "81/81 [==============================] - ETA: 0s - loss: 0.9219 - accuracy: 0.7222\n",
      "Epoch 00031: val_accuracy improved from 0.78537 to 0.79512, saving model to model_checkpoints\\cp_test.ckpt\n",
      "81/81 [==============================] - 37s 457ms/step - loss: 0.9219 - accuracy: 0.7222 - val_loss: 1.0629 - val_accuracy: 0.7951 - lr: 7.0000e-04\n",
      "Epoch 32/150\n",
      "81/81 [==============================] - ETA: 0s - loss: 0.9254 - accuracy: 0.7137\n",
      "Epoch 00032: val_accuracy did not improve from 0.79512\n",
      "81/81 [==============================] - 36s 447ms/step - loss: 0.9254 - accuracy: 0.7137 - val_loss: 1.0520 - val_accuracy: 0.7951 - lr: 7.0000e-04\n",
      "Epoch 33/150\n",
      "81/81 [==============================] - ETA: 0s - loss: 0.9029 - accuracy: 0.7253\n",
      "Epoch 00033: val_accuracy improved from 0.79512 to 0.80488, saving model to model_checkpoints\\cp_test.ckpt\n",
      "81/81 [==============================] - 36s 448ms/step - loss: 0.9029 - accuracy: 0.7253 - val_loss: 1.0361 - val_accuracy: 0.8049 - lr: 7.0000e-04\n",
      "Epoch 34/150\n",
      "81/81 [==============================] - ETA: 0s - loss: 0.8682 - accuracy: 0.7393\n",
      "Epoch 00034: val_accuracy improved from 0.80488 to 0.80976, saving model to model_checkpoints\\cp_test.ckpt\n",
      "81/81 [==============================] - 36s 449ms/step - loss: 0.8682 - accuracy: 0.7393 - val_loss: 1.1008 - val_accuracy: 0.8098 - lr: 7.0000e-04\n",
      "Epoch 35/150\n",
      "81/81 [==============================] - ETA: 0s - loss: 0.8611 - accuracy: 0.7335\n",
      "Epoch 00035: val_accuracy did not improve from 0.80976\n",
      "81/81 [==============================] - 37s 457ms/step - loss: 0.8611 - accuracy: 0.7335 - val_loss: 1.0327 - val_accuracy: 0.8098 - lr: 7.0000e-04\n",
      "Epoch 36/150\n",
      "81/81 [==============================] - ETA: 0s - loss: 0.8766 - accuracy: 0.7300\n",
      "Epoch 00036: val_accuracy did not improve from 0.80976\n",
      "81/81 [==============================] - 37s 453ms/step - loss: 0.8766 - accuracy: 0.7300 - val_loss: 1.1309 - val_accuracy: 0.7854 - lr: 7.0000e-04\n",
      "Epoch 37/150\n",
      "81/81 [==============================] - ETA: 0s - loss: 0.7930 - accuracy: 0.7545\n",
      "Epoch 00037: val_accuracy did not improve from 0.80976\n",
      "81/81 [==============================] - 37s 449ms/step - loss: 0.7930 - accuracy: 0.7545 - val_loss: 1.1103 - val_accuracy: 0.7951 - lr: 7.0000e-04\n",
      "Epoch 38/150\n",
      "81/81 [==============================] - ETA: 0s - loss: 0.7865 - accuracy: 0.7576\n",
      "Epoch 00038: val_accuracy improved from 0.80976 to 0.84390, saving model to model_checkpoints\\cp_test.ckpt\n",
      "81/81 [==============================] - 37s 451ms/step - loss: 0.7865 - accuracy: 0.7576 - val_loss: 1.1206 - val_accuracy: 0.8439 - lr: 7.0000e-04\n",
      "Epoch 39/150\n",
      "81/81 [==============================] - ETA: 0s - loss: 0.7856 - accuracy: 0.7517\n",
      "Epoch 00039: val_accuracy did not improve from 0.84390\n",
      "81/81 [==============================] - 36s 449ms/step - loss: 0.7856 - accuracy: 0.7517 - val_loss: 0.9876 - val_accuracy: 0.8293 - lr: 7.0000e-04\n",
      "Epoch 40/150\n",
      "81/81 [==============================] - ETA: 0s - loss: 0.7411 - accuracy: 0.7599\n",
      "Epoch 00040: val_accuracy did not improve from 0.84390\n",
      "81/81 [==============================] - 36s 449ms/step - loss: 0.7411 - accuracy: 0.7599 - val_loss: 1.0247 - val_accuracy: 0.8341 - lr: 7.0000e-04\n",
      "Epoch 41/150\n",
      "81/81 [==============================] - ETA: 0s - loss: 0.7091 - accuracy: 0.7817\n",
      "Epoch 00041: val_accuracy did not improve from 0.84390\n",
      "81/81 [==============================] - 36s 449ms/step - loss: 0.7091 - accuracy: 0.7817 - val_loss: 0.9837 - val_accuracy: 0.8390 - lr: 7.0000e-04\n",
      "Epoch 42/150\n",
      "81/81 [==============================] - ETA: 0s - loss: 0.7495 - accuracy: 0.7789\n",
      "Epoch 00042: val_accuracy did not improve from 0.84390\n",
      "81/81 [==============================] - 36s 449ms/step - loss: 0.7495 - accuracy: 0.7789 - val_loss: 0.9451 - val_accuracy: 0.8439 - lr: 7.0000e-04\n",
      "Epoch 43/150\n",
      "81/81 [==============================] - ETA: 0s - loss: 0.7164 - accuracy: 0.7731\n",
      "Epoch 00043: val_accuracy did not improve from 0.84390\n",
      "81/81 [==============================] - 37s 456ms/step - loss: 0.7164 - accuracy: 0.7731 - val_loss: 1.0633 - val_accuracy: 0.8195 - lr: 7.0000e-04\n",
      "Epoch 44/150\n",
      "81/81 [==============================] - ETA: 0s - loss: 0.6529 - accuracy: 0.7933\n",
      "Epoch 00044: val_accuracy did not improve from 0.84390\n",
      "81/81 [==============================] - 36s 448ms/step - loss: 0.6529 - accuracy: 0.7933 - val_loss: 0.9324 - val_accuracy: 0.8439 - lr: 7.0000e-04\n",
      "Epoch 45/150\n",
      "81/81 [==============================] - ETA: 0s - loss: 0.6337 - accuracy: 0.7918\n",
      "Epoch 00045: val_accuracy did not improve from 0.84390\n",
      "81/81 [==============================] - 36s 446ms/step - loss: 0.6337 - accuracy: 0.7918 - val_loss: 1.0627 - val_accuracy: 0.8293 - lr: 7.0000e-04\n",
      "Epoch 46/150\n",
      "81/81 [==============================] - ETA: 0s - loss: 0.6402 - accuracy: 0.7964\n",
      "Epoch 00046: val_accuracy did not improve from 0.84390\n",
      "81/81 [==============================] - 36s 447ms/step - loss: 0.6402 - accuracy: 0.7964 - val_loss: 1.1173 - val_accuracy: 0.8098 - lr: 7.0000e-04\n",
      "Epoch 47/150\n",
      "81/81 [==============================] - ETA: 0s - loss: 0.6591 - accuracy: 0.7941\n",
      "Epoch 00047: val_accuracy did not improve from 0.84390\n",
      "81/81 [==============================] - 36s 445ms/step - loss: 0.6591 - accuracy: 0.7941 - val_loss: 1.0087 - val_accuracy: 0.8390 - lr: 7.0000e-04\n",
      "Epoch 48/150\n",
      "81/81 [==============================] - ETA: 0s - loss: 0.6458 - accuracy: 0.7945\n",
      "Epoch 00048: ReduceLROnPlateau reducing learning rate to 0.000139999995008111.\n",
      "\n",
      "Epoch 00048: val_accuracy did not improve from 0.84390\n",
      "81/81 [==============================] - 36s 450ms/step - loss: 0.6458 - accuracy: 0.7945 - val_loss: 1.0941 - val_accuracy: 0.8439 - lr: 7.0000e-04\n",
      "Epoch 49/150\n",
      "81/81 [==============================] - ETA: 0s - loss: 0.5627 - accuracy: 0.8182\n",
      "Epoch 00049: val_accuracy did not improve from 0.84390\n",
      "81/81 [==============================] - 36s 447ms/step - loss: 0.5627 - accuracy: 0.8182 - val_loss: 1.0834 - val_accuracy: 0.8439 - lr: 1.4000e-04\n",
      "Epoch 50/150\n",
      "81/81 [==============================] - ETA: 0s - loss: 0.5315 - accuracy: 0.8310\n",
      "Epoch 00050: val_accuracy did not improve from 0.84390\n",
      "81/81 [==============================] - 36s 447ms/step - loss: 0.5315 - accuracy: 0.8310 - val_loss: 1.1242 - val_accuracy: 0.8439 - lr: 1.4000e-04\n"
     ]
    },
    {
     "name": "stdout",
     "output_type": "stream",
     "text": [
      "Epoch 51/150\n",
      "81/81 [==============================] - ETA: 0s - loss: 0.5349 - accuracy: 0.8419\n",
      "Epoch 00051: val_accuracy improved from 0.84390 to 0.85366, saving model to model_checkpoints\\cp_test.ckpt\n",
      "81/81 [==============================] - 36s 447ms/step - loss: 0.5349 - accuracy: 0.8419 - val_loss: 1.0759 - val_accuracy: 0.8537 - lr: 1.4000e-04\n",
      "Epoch 52/150\n",
      "81/81 [==============================] - ETA: 0s - loss: 0.5295 - accuracy: 0.8302\n",
      "Epoch 00052: ReduceLROnPlateau reducing learning rate to 2.7999997837468984e-05.\n",
      "\n",
      "Epoch 00052: val_accuracy did not improve from 0.85366\n",
      "81/81 [==============================] - 36s 447ms/step - loss: 0.5295 - accuracy: 0.8302 - val_loss: 1.0964 - val_accuracy: 0.8488 - lr: 1.4000e-04\n",
      "Epoch 53/150\n",
      "81/81 [==============================] - ETA: 0s - loss: 0.5175 - accuracy: 0.8388\n",
      "Epoch 00053: val_accuracy did not improve from 0.85366\n",
      "81/81 [==============================] - 36s 443ms/step - loss: 0.5175 - accuracy: 0.8388 - val_loss: 1.1000 - val_accuracy: 0.8537 - lr: 2.8000e-05\n",
      "Epoch 54/150\n",
      "81/81 [==============================] - ETA: 0s - loss: 0.5042 - accuracy: 0.8302\n",
      "Epoch 00054: val_accuracy did not improve from 0.85366\n",
      "81/81 [==============================] - 36s 439ms/step - loss: 0.5042 - accuracy: 0.8302 - val_loss: 1.0950 - val_accuracy: 0.8488 - lr: 2.8000e-05\n"
     ]
    }
   ],
   "source": [
    "cp_callback = tf.keras.callbacks.ModelCheckpoint(filepath=\"model_checkpoints/cp_test.ckpt\",\n",
    "                                                 save_weights_only=True,\n",
    "                                                 save_best_only=True,\n",
    "                                                 monitor=\"val_accuracy\",\n",
    "                                                 verbose=1)\n",
    "test = tf.keras.models.Sequential([\n",
    "  tf.keras.layers.Conv2D(filters=10, \n",
    "                         kernel_size=3, # can also be (3, 3)\n",
    "                         activation=\"relu\",input_shape=(200, 200, 3)), # first layer specifies input shape (height, width, colour channels)\n",
    "  tf.keras.layers.Conv2D(10, 3, activation=\"relu\"),\n",
    "  tf.keras.layers.MaxPool2D(pool_size=2, # pool_size can also be (2, 2)\n",
    "                            padding=\"valid\"), # padding can also be 'same'\n",
    "  tf.keras.layers.Conv2D(10, 3, activation=\"relu\"),\n",
    "  tf.keras.layers.Conv2D(10, 3, activation=\"relu\"), # activation='relu' == tf.keras.layers.Activations(tf.nn.relu)\n",
    "  tf.keras.layers.MaxPool2D(2),\n",
    "  tf.keras.layers.Conv2D(10, 3, activation=\"relu\"),\n",
    "  tf.keras.layers.Conv2D(10, 3, activation=\"relu\"),\n",
    "  tf.keras.layers.MaxPool2D(2),\n",
    "  tf.keras.layers.Conv2D(10, 3, activation=\"relu\"),\n",
    "  tf.keras.layers.Conv2D(10, 3, activation=\"relu\"),\n",
    "  tf.keras.layers.MaxPool2D(2),\n",
    "    layers.Dropout(0.5),\n",
    "  tf.keras.layers.Flatten(),\n",
    "  tf.keras.layers.Dense(len(class_names), activation=\"softmax\")\n",
    "])\n",
    "\n",
    "# Compile the model\n",
    "test.compile(loss=\"sparse_categorical_crossentropy\",\n",
    "              optimizer=tf.keras.optimizers.Adam(learning_rate=0.0007),\n",
    "              metrics=[\"accuracy\"])\n",
    "\n",
    "# Fit the model\n",
    "test_history = test.fit(train_data,\n",
    "                        epochs=150,\n",
    "                        steps_per_epoch=len(train_data),\n",
    "                        validation_data=test_data,\n",
    "                        validation_steps=len(test_data),\n",
    "                        callbacks=[create_tensorboard_callback(\"tensorboard\", \"baseline\"),\n",
    "                                   early_stopping,\n",
    "                                   reduce_lr,\n",
    "                                  cp_callback])"
   ]
  },
  {
   "cell_type": "code",
   "execution_count": 16,
   "id": "0eeec6b6",
   "metadata": {},
   "outputs": [
    {
     "data": {
      "image/png": "[encoded data removed]",
      "text/plain": [
       "<Figure size 432x288 with 1 Axes>"
      ]
     },
     "metadata": {
      "needs_background": "light"
     },
     "output_type": "display_data"
    },
    {
     "data": {
      "image/png": "[encoded data removed]",
      "text/plain": [
       "<Figure size 432x288 with 1 Axes>"
      ]
     },
     "metadata": {
      "needs_background": "light"
     },
     "output_type": "display_data"
    }
   ],
   "source": [
    "plot_loss_curves(test_history)"
   ]
  },
  {
   "cell_type": "code",
   "execution_count": 17,
   "id": "f8fd4b6f",
   "metadata": {},
   "outputs": [],
   "source": [
    "# model.load_weights(\"model_checkpoints/cp.ckpt\")\n",
    "# model.evaluate(test_data)"
   ]
  },
  {
   "cell_type": "code",
   "execution_count": 2,
   "id": "10e642b3",
   "metadata": {},
   "outputs": [],
   "source": [
    "import tensorflow as tf\n",
    "\n",
    "model = tf.keras.models.Sequential([\n",
    "  tf.keras.layers.Conv2D(filters=10,\n",
    "                         kernel_size=3,\n",
    "                         activation=\"relu\",input_shape=(200, 200, 3)),\n",
    "  tf.keras.layers.Conv2D(10, 3, activation=\"relu\"),\n",
    "  tf.keras.layers.MaxPool2D(pool_size=2,\n",
    "                            padding=\"valid\"),\n",
    "  tf.keras.layers.Conv2D(10, 3, activation=\"relu\"),\n",
    "  tf.keras.layers.Conv2D(10, 3, activation=\"relu\"),\n",
    "  tf.keras.layers.MaxPool2D(2),\n",
    "  tf.keras.layers.Conv2D(10, 3, activation=\"relu\"),\n",
    "  tf.keras.layers.Conv2D(10, 3, activation=\"relu\"),\n",
    "  tf.keras.layers.MaxPool2D(2),\n",
    "  tf.keras.layers.Conv2D(10, 3, activation=\"relu\"),\n",
    "  tf.keras.layers.Conv2D(10, 3, activation=\"relu\"),\n",
    "  tf.keras.layers.MaxPool2D(2),\n",
    "  tf.keras.layers.Dropout(0.5),\n",
    "  tf.keras.layers.Flatten(),\n",
    "  tf.keras.layers.Dense(50, activation=\"softmax\")\n",
    "])\n",
    "model.compile(loss=\"sparse_categorical_crossentropy\",\n",
    "              optimizer=tf.keras.optimizers.Adam(learning_rate=0.0007),\n",
    "              metrics=[\"accuracy\"])"
   ]
  },
  {
   "cell_type": "code",
   "execution_count": 3,
   "id": "ef5a73e2",
   "metadata": {},
   "outputs": [
    {
     "data": {
      "text/plain": [
       "<tensorflow.python.training.tracking.util.CheckpointLoadStatus at 0x207e7633f10>"
      ]
     },
     "execution_count": 3,
     "metadata": {},
     "output_type": "execute_result"
    }
   ],
   "source": [
    "model.load_weights(\"model_checkpoints/cp.ckpt\")"
   ]
  },
  {
   "cell_type": "code",
   "execution_count": 6,
   "id": "12015f1a",
   "metadata": {},
   "outputs": [
    {
     "name": "stdout",
     "output_type": "stream",
     "text": [
      "Found 205 images belonging to 50 classes.\n"
     ]
    }
   ],
   "source": [
    "from tensorflow.keras.preprocessing.image import ImageDataGenerator\n",
    "test_datagen = ImageDataGenerator(rescale=1/255.)\n",
    "test_data = test_datagen.flow_from_directory(directory=\"PokemonData/test_data/\",\n",
    "                                             target_size=(200, 200),\n",
    "                                             class_mode='binary',\n",
    "                                             batch_size=32)"
   ]
  },
  {
   "cell_type": "code",
   "execution_count": 4,
   "id": "bdebc070",
   "metadata": {},
   "outputs": [
    {
     "name": "stdout",
     "output_type": "stream",
     "text": [
      "7/7 [==============================] - 3s 359ms/step - loss: 1.0759 - accuracy: 0.8537\n"
     ]
    }
   ],
   "source": [
    "preds = model.evaluate(test_data)"
   ]
  },
  {
   "cell_type": "code",
   "execution_count": 5,
   "id": "238dadc1",
   "metadata": {},
   "outputs": [
    {
     "data": {
      "text/plain": [
       "[1.0758551359176636, 0.8536585569381714]"
      ]
     },
     "execution_count": 5,
     "metadata": {},
     "output_type": "execute_result"
    }
   ],
   "source": [
    "preds"
   ]
  },
  {
   "cell_type": "markdown",
   "id": "fa716ad7",
   "metadata": {},
   "source": [
    "## Combining Deep Learning and machine learning\n",
    "\n",
    "While scrolling YouTube to find an interesting data science video, I came across [this video](https://www.youtube.com/watch?v=9GzfUzJeyi0) explaining how to take the features of a CNN into a random forest to better handle low data. The vast majority of the code below is taken from the video, except the data augmentation to get a bit more generalization."
   ]
  },
  {
   "cell_type": "code",
   "execution_count": 1,
   "id": "c97e2b25",
   "metadata": {},
   "outputs": [],
   "source": [
    "import numpy as np \n",
    "import matplotlib.pyplot as plt\n",
    "import cv2\n",
    "\n",
    "from keras.models import Model, Sequential\n",
    "from keras.layers import Dense, Flatten, Conv2D, MaxPooling2D, BatchNormalization\n",
    "import os\n",
    "import seaborn as sns"
   ]
  },
  {
   "cell_type": "code",
   "execution_count": 2,
   "id": "4447516f",
   "metadata": {},
   "outputs": [
    {
     "name": "stdout",
     "output_type": "stream",
     "text": [
      "['aegislash', 'alakazam', 'bisharp', 'blacephalon', 'blissey', 'buzzwole', 'chansey', 'charizard', 'clefable', 'corviknight', 'crawdaunt', 'dragapult', 'dragonite', 'excadrill', 'ferrothorn', 'garchomp', 'hawlucha', 'heatran', 'hippowdon', 'hydreigon', 'kartana', 'kommo-o', 'kyurem', 'landorus-therian', 'lucario', 'magnezone', 'melmetal', 'mew', 'moltres-galar', 'nidoking', 'pelipper', 'rillaboom', 'rotom-wash', 'scizor', 'skarmory', 'tangrowth', 'tapu fini', 'tapu koko', 'tapu lele', 'torkoal', 'tornadus-therian', 'toxapex', 'tyranitar', 'urshifu', 'victini', 'volcarona', 'weavile', 'zapdos', 'zapdos-galar', 'zeraora']\n"
     ]
    }
   ],
   "source": [
    "print(os.listdir(\"PokemonData/train_data/\"))"
   ]
  },
  {
   "cell_type": "code",
   "execution_count": 3,
   "id": "eaf36902",
   "metadata": {},
   "outputs": [],
   "source": [
    "SIZE = 200"
   ]
  },
  {
   "cell_type": "code",
   "execution_count": 21,
   "id": "6b6f48f9",
   "metadata": {},
   "outputs": [
    {
     "name": "stdout",
     "output_type": "stream",
     "text": [
      "['aegislash', 'aegislash', 'aegislash', 'aegislash', 'aegislash']\n"
     ]
    }
   ],
   "source": [
    "train_images = []\n",
    "train_labels = [] \n",
    "\n",
    "for dirpath, dirnames, filenames in os.walk(\"PokemonData\\\\train_data\"):\n",
    "    if filenames != []:\n",
    "        for file in filenames:\n",
    "            img = cv2.imread(dirpath+\"\\\\\"+ file, cv2.IMREAD_COLOR)\n",
    "            img = cv2.resize(img, (SIZE,SIZE))\n",
    "            train_images.append(img)\n",
    "            train_labels.append(dirpath.split(\"\\\\\")[-1])\n",
    "\n",
    "print(train_labels[:5])"
   ]
  },
  {
   "cell_type": "code",
   "execution_count": 22,
   "id": "d5e1f5e9",
   "metadata": {},
   "outputs": [],
   "source": [
    "train_images = np.array(train_images)\n",
    "train_labels = np.array(train_labels)"
   ]
  },
  {
   "cell_type": "code",
   "execution_count": 23,
   "id": "35853e25",
   "metadata": {},
   "outputs": [
    {
     "name": "stdout",
     "output_type": "stream",
     "text": [
      "['aegislash', 'aegislash', 'aegislash', 'aegislash', 'alakazam']\n"
     ]
    }
   ],
   "source": [
    "test_images = []\n",
    "test_labels = [] \n",
    "\n",
    "for dirpath, dirnames, filenames in os.walk(\"PokemonData\\\\test_data\"):\n",
    "    if filenames != []:\n",
    "        for file in filenames:\n",
    "            img = cv2.imread(dirpath+\"\\\\\"+ file, cv2.IMREAD_COLOR)\n",
    "            img = cv2.resize(img, (SIZE,SIZE))\n",
    "            test_images.append(img)\n",
    "            test_labels.append(dirpath.split(\"\\\\\")[-1])\n",
    "print(test_labels[:5])"
   ]
  },
  {
   "cell_type": "code",
   "execution_count": 24,
   "id": "12f05863",
   "metadata": {},
   "outputs": [],
   "source": [
    "test_images = np.array(test_images)\n",
    "test_labels = np.array(test_labels)"
   ]
  },
  {
   "cell_type": "code",
   "execution_count": 25,
   "id": "c1499e7c",
   "metadata": {},
   "outputs": [],
   "source": [
    "from sklearn import preprocessing\n",
    "\n",
    "le = preprocessing.LabelEncoder()\n",
    "le.fit(test_labels)\n",
    "test_labels_encoded = le.transform(test_labels)\n",
    "le.fit(train_labels)\n",
    "train_labels_encoded = le.transform(train_labels)"
   ]
  },
  {
   "cell_type": "code",
   "execution_count": 26,
   "id": "3d70c810",
   "metadata": {},
   "outputs": [],
   "source": [
    "x_train, y_train, x_test, y_test = train_images, train_labels_encoded, test_images, test_labels_encoded"
   ]
  },
  {
   "cell_type": "code",
   "execution_count": 27,
   "id": "45e004c6",
   "metadata": {},
   "outputs": [],
   "source": [
    "x_train, x_test = x_train / 255.0, x_test / 255.0"
   ]
  },
  {
   "cell_type": "code",
   "execution_count": 28,
   "id": "5125e486",
   "metadata": {},
   "outputs": [],
   "source": [
    "from tensorflow.keras.utils import to_categorical\n",
    "y_train_one_hot = to_categorical(y_train)\n",
    "y_test_one_hot = to_categorical(y_test)"
   ]
  },
  {
   "cell_type": "code",
   "execution_count": 43,
   "id": "4950ffa9",
   "metadata": {},
   "outputs": [],
   "source": [
    "import tensorflow as tf\n",
    "cp_rl = tf.keras.callbacks.ModelCheckpoint(filepath=\"model_checkpoints/cp_rl.ckpt\",\n",
    "                                                 save_weights_only=True,\n",
    "                                                 save_best_only=True,\n",
    "                                                 monitor=\"val_accuracy\",\n",
    "                                                 verbose=1)"
   ]
  },
  {
   "cell_type": "code",
   "execution_count": 76,
   "id": "b0001617",
   "metadata": {},
   "outputs": [],
   "source": [
    "from tensorflow.keras import layers\n",
    "activation = 'sigmoid'\n",
    "\n",
    "feature_extractor = Sequential()\n",
    "feature_extractor.add(layers.Input(shape=(200,200,3)))\n",
    "feature_extractor.add(layers.RandomFlip(\"horizontal\"))\n",
    "feature_extractor.add(layers.RandomRotation(0.1))\n",
    "feature_extractor.add(layers.RandomContrast(0.1))\n",
    "feature_extractor.add(Conv2D(32, 3, activation = activation, padding = 'same', input_shape = (SIZE, SIZE, 3)))\n",
    "feature_extractor.add(BatchNormalization())\n",
    "\n",
    "feature_extractor.add(Conv2D(32, 3, activation = activation, padding = 'same', kernel_initializer = 'he_uniform'))\n",
    "feature_extractor.add(BatchNormalization())\n",
    "feature_extractor.add(MaxPooling2D())\n",
    "\n",
    "feature_extractor.add(Conv2D(64, 3, activation = activation, padding = 'same', kernel_initializer = 'he_uniform'))\n",
    "feature_extractor.add(BatchNormalization())\n",
    "\n",
    "feature_extractor.add(Conv2D(64, 3, activation = activation, padding = 'same', kernel_initializer = 'he_uniform'))\n",
    "feature_extractor.add(BatchNormalization())\n",
    "feature_extractor.add(MaxPooling2D())\n",
    "\n",
    "feature_extractor.add(Flatten())"
   ]
  },
  {
   "cell_type": "code",
   "execution_count": 77,
   "id": "02a08743",
   "metadata": {},
   "outputs": [],
   "source": [
    "x = feature_extractor.output  \n",
    "x = Dense(128, activation = activation, kernel_initializer = 'he_uniform')(x)\n",
    "prediction_layer = Dense(50, activation = 'softmax')(x)"
   ]
  },
  {
   "cell_type": "code",
   "execution_count": 78,
   "id": "d31a14ed",
   "metadata": {},
   "outputs": [],
   "source": [
    "cnn_model = Model(inputs=feature_extractor.input, outputs=prediction_layer)\n",
    "cnn_model.compile(optimizer='rmsprop',loss = 'categorical_crossentropy', metrics = ['accuracy'])"
   ]
  },
  {
   "cell_type": "code",
   "execution_count": 79,
   "id": "3612c8b6",
   "metadata": {},
   "outputs": [
    {
     "name": "stdout",
     "output_type": "stream",
     "text": [
      "Epoch 1/50\n",
      "41/41 [==============================] - ETA: 0s - loss: 4.0536 - accuracy: 0.0328\n",
      "Epoch 00001: val_accuracy did not improve from 0.10244\n",
      "41/41 [==============================] - 87s 2s/step - loss: 4.0536 - accuracy: 0.0328 - val_loss: 4.0386 - val_accuracy: 0.0390\n",
      "Epoch 2/50\n",
      "41/41 [==============================] - ETA: 0s - loss: 3.8265 - accuracy: 0.0610\n",
      "Epoch 00002: val_accuracy did not improve from 0.10244\n",
      "41/41 [==============================] - 85s 2s/step - loss: 3.8265 - accuracy: 0.0610 - val_loss: 4.1201 - val_accuracy: 0.0390\n",
      "Epoch 3/50\n",
      "41/41 [==============================] - ETA: 0s - loss: 3.7705 - accuracy: 0.0641\n",
      "Epoch 00003: val_accuracy did not improve from 0.10244\n",
      "41/41 [==============================] - 87s 2s/step - loss: 3.7705 - accuracy: 0.0641 - val_loss: 4.0531 - val_accuracy: 0.0390\n",
      "Epoch 4/50\n",
      "41/41 [==============================] - ETA: 0s - loss: 3.7220 - accuracy: 0.0702\n",
      "Epoch 00004: val_accuracy did not improve from 0.10244\n",
      "41/41 [==============================] - 85s 2s/step - loss: 3.7220 - accuracy: 0.0702 - val_loss: 3.8178 - val_accuracy: 0.0634\n",
      "Epoch 5/50\n",
      "41/41 [==============================] - ETA: 0s - loss: 3.7188 - accuracy: 0.0717\n",
      "Epoch 00005: val_accuracy did not improve from 0.10244\n",
      "41/41 [==============================] - 120s 3s/step - loss: 3.7188 - accuracy: 0.0717 - val_loss: 3.9715 - val_accuracy: 0.0341\n",
      "Epoch 6/50\n",
      "41/41 [==============================] - ETA: 0s - loss: 3.7384 - accuracy: 0.0587\n",
      "Epoch 00006: val_accuracy did not improve from 0.10244\n",
      "41/41 [==============================] - 88s 2s/step - loss: 3.7384 - accuracy: 0.0587 - val_loss: 3.7519 - val_accuracy: 0.0439\n",
      "Epoch 7/50\n",
      "41/41 [==============================] - ETA: 0s - loss: 3.7413 - accuracy: 0.0633\n",
      "Epoch 00007: val_accuracy did not improve from 0.10244\n",
      "41/41 [==============================] - 85s 2s/step - loss: 3.7413 - accuracy: 0.0633 - val_loss: 3.7476 - val_accuracy: 0.0390\n",
      "Epoch 8/50\n",
      "41/41 [==============================] - ETA: 0s - loss: 3.6788 - accuracy: 0.0671\n",
      "Epoch 00008: val_accuracy did not improve from 0.10244\n",
      "41/41 [==============================] - 90s 2s/step - loss: 3.6788 - accuracy: 0.0671 - val_loss: 3.6294 - val_accuracy: 0.0488\n",
      "Epoch 9/50\n",
      "41/41 [==============================] - ETA: 0s - loss: 3.6444 - accuracy: 0.0786\n",
      "Epoch 00009: val_accuracy did not improve from 0.10244\n",
      "41/41 [==============================] - 90s 2s/step - loss: 3.6444 - accuracy: 0.0786 - val_loss: 3.5402 - val_accuracy: 0.0537\n",
      "Epoch 10/50\n",
      "41/41 [==============================] - ETA: 0s - loss: 3.6148 - accuracy: 0.0900\n",
      "Epoch 00010: val_accuracy did not improve from 0.10244\n",
      "41/41 [==============================] - 86s 2s/step - loss: 3.6148 - accuracy: 0.0900 - val_loss: 3.4898 - val_accuracy: 0.0683\n",
      "Epoch 11/50\n",
      "41/41 [==============================] - ETA: 0s - loss: 3.5837 - accuracy: 0.0885\n",
      "Epoch 00011: val_accuracy did not improve from 0.10244\n",
      "41/41 [==============================] - 85s 2s/step - loss: 3.5837 - accuracy: 0.0885 - val_loss: 3.4949 - val_accuracy: 0.0585\n",
      "Epoch 12/50\n",
      "41/41 [==============================] - ETA: 0s - loss: 3.5848 - accuracy: 0.0809\n",
      "Epoch 00012: val_accuracy did not improve from 0.10244\n",
      "41/41 [==============================] - 85s 2s/step - loss: 3.5848 - accuracy: 0.0809 - val_loss: 3.5300 - val_accuracy: 0.0732\n",
      "Epoch 13/50\n",
      "41/41 [==============================] - ETA: 0s - loss: 3.5819 - accuracy: 0.0953\n",
      "Epoch 00013: val_accuracy improved from 0.10244 to 0.10732, saving model to model_checkpoints\\cp_rl.ckpt\n",
      "41/41 [==============================] - 91s 2s/step - loss: 3.5819 - accuracy: 0.0953 - val_loss: 3.6506 - val_accuracy: 0.1073\n",
      "Epoch 14/50\n",
      "41/41 [==============================] - ETA: 0s - loss: 3.5354 - accuracy: 0.0976\n",
      "Epoch 00014: val_accuracy did not improve from 0.10732\n",
      "41/41 [==============================] - 87s 2s/step - loss: 3.5354 - accuracy: 0.0976 - val_loss: 3.4988 - val_accuracy: 0.1073\n",
      "Epoch 15/50\n",
      "41/41 [==============================] - ETA: 0s - loss: 3.5005 - accuracy: 0.1114\n",
      "Epoch 00015: val_accuracy did not improve from 0.10732\n",
      "41/41 [==============================] - 87s 2s/step - loss: 3.5005 - accuracy: 0.1114 - val_loss: 3.4886 - val_accuracy: 0.0976\n",
      "Epoch 16/50\n",
      "41/41 [==============================] - ETA: 0s - loss: 3.4467 - accuracy: 0.1137\n",
      "Epoch 00016: val_accuracy did not improve from 0.10732\n",
      "41/41 [==============================] - 89s 2s/step - loss: 3.4467 - accuracy: 0.1137 - val_loss: 3.6250 - val_accuracy: 0.0829\n",
      "Epoch 17/50\n",
      "41/41 [==============================] - ETA: 0s - loss: 3.4205 - accuracy: 0.1289\n",
      "Epoch 00017: val_accuracy did not improve from 0.10732\n",
      "41/41 [==============================] - 86s 2s/step - loss: 3.4205 - accuracy: 0.1289 - val_loss: 3.5556 - val_accuracy: 0.0829\n",
      "Epoch 18/50\n",
      "41/41 [==============================] - ETA: 0s - loss: 3.4472 - accuracy: 0.1159\n",
      "Epoch 00018: val_accuracy did not improve from 0.10732\n",
      "41/41 [==============================] - 87s 2s/step - loss: 3.4472 - accuracy: 0.1159 - val_loss: 3.3300 - val_accuracy: 0.1024\n",
      "Epoch 19/50\n",
      "41/41 [==============================] - ETA: 0s - loss: 3.3631 - accuracy: 0.1281\n",
      "Epoch 00019: val_accuracy did not improve from 0.10732\n",
      "41/41 [==============================] - 91s 2s/step - loss: 3.3631 - accuracy: 0.1281 - val_loss: 3.6621 - val_accuracy: 0.0780\n",
      "Epoch 20/50\n",
      "41/41 [==============================] - ETA: 0s - loss: 3.3090 - accuracy: 0.1388\n",
      "Epoch 00020: val_accuracy improved from 0.10732 to 0.14146, saving model to model_checkpoints\\cp_rl.ckpt\n",
      "41/41 [==============================] - 87s 2s/step - loss: 3.3090 - accuracy: 0.1388 - val_loss: 3.4274 - val_accuracy: 0.1415\n",
      "Epoch 21/50\n",
      "41/41 [==============================] - ETA: 0s - loss: 3.2538 - accuracy: 0.1442\n",
      "Epoch 00021: val_accuracy did not improve from 0.14146\n",
      "41/41 [==============================] - 84s 2s/step - loss: 3.2538 - accuracy: 0.1442 - val_loss: 3.3749 - val_accuracy: 0.1024\n",
      "Epoch 22/50\n",
      "41/41 [==============================] - ETA: 0s - loss: 3.3865 - accuracy: 0.1342\n",
      "Epoch 00022: val_accuracy did not improve from 0.14146\n",
      "41/41 [==============================] - 85s 2s/step - loss: 3.3865 - accuracy: 0.1342 - val_loss: 3.2903 - val_accuracy: 0.1171\n",
      "Epoch 23/50\n",
      "41/41 [==============================] - ETA: 0s - loss: 3.1910 - accuracy: 0.1716\n",
      "Epoch 00023: val_accuracy did not improve from 0.14146\n",
      "41/41 [==============================] - 84s 2s/step - loss: 3.1910 - accuracy: 0.1716 - val_loss: 3.3069 - val_accuracy: 0.1073\n",
      "Epoch 24/50\n",
      "41/41 [==============================] - ETA: 0s - loss: 3.1393 - accuracy: 0.1747\n",
      "Epoch 00024: val_accuracy did not improve from 0.14146\n",
      "41/41 [==============================] - 84s 2s/step - loss: 3.1393 - accuracy: 0.1747 - val_loss: 3.1634 - val_accuracy: 0.1317\n",
      "Epoch 25/50\n",
      "41/41 [==============================] - ETA: 0s - loss: 3.1429 - accuracy: 0.1854\n",
      "Epoch 00025: val_accuracy did not improve from 0.14146\n",
      "41/41 [==============================] - 85s 2s/step - loss: 3.1429 - accuracy: 0.1854 - val_loss: 3.2961 - val_accuracy: 0.1073\n",
      "Epoch 26/50\n",
      "41/41 [==============================] - ETA: 0s - loss: 3.1847 - accuracy: 0.1724\n",
      "Epoch 00026: val_accuracy did not improve from 0.14146\n",
      "41/41 [==============================] - 86s 2s/step - loss: 3.1847 - accuracy: 0.1724 - val_loss: 3.7858 - val_accuracy: 0.0976\n",
      "Epoch 27/50\n",
      "41/41 [==============================] - ETA: 0s - loss: 3.1246 - accuracy: 0.1915\n",
      "Epoch 00027: val_accuracy did not improve from 0.14146\n",
      "41/41 [==============================] - 90s 2s/step - loss: 3.1246 - accuracy: 0.1915 - val_loss: 3.2798 - val_accuracy: 0.1366\n",
      "Epoch 28/50\n",
      "41/41 [==============================] - ETA: 0s - loss: 3.0485 - accuracy: 0.1960\n",
      "Epoch 00028: val_accuracy improved from 0.14146 to 0.20976, saving model to model_checkpoints\\cp_rl.ckpt\n",
      "41/41 [==============================] - 87s 2s/step - loss: 3.0485 - accuracy: 0.1960 - val_loss: 2.9477 - val_accuracy: 0.2098\n",
      "Epoch 29/50\n",
      "41/41 [==============================] - ETA: 0s - loss: 3.0129 - accuracy: 0.2067\n",
      "Epoch 00029: val_accuracy did not improve from 0.20976\n",
      "41/41 [==============================] - 83s 2s/step - loss: 3.0129 - accuracy: 0.2067 - val_loss: 3.3136 - val_accuracy: 0.1220\n"
     ]
    },
    {
     "name": "stdout",
     "output_type": "stream",
     "text": [
      "Epoch 30/50\n",
      "41/41 [==============================] - ETA: 0s - loss: 3.0139 - accuracy: 0.1930\n",
      "Epoch 00030: val_accuracy did not improve from 0.20976\n",
      "41/41 [==============================] - 84s 2s/step - loss: 3.0139 - accuracy: 0.1930 - val_loss: 3.1229 - val_accuracy: 0.1707\n",
      "Epoch 31/50\n",
      "41/41 [==============================] - ETA: 0s - loss: 2.9049 - accuracy: 0.2105\n",
      "Epoch 00031: val_accuracy did not improve from 0.20976\n",
      "41/41 [==============================] - 85s 2s/step - loss: 2.9049 - accuracy: 0.2105 - val_loss: 3.0740 - val_accuracy: 0.1561\n",
      "Epoch 32/50\n",
      "41/41 [==============================] - ETA: 0s - loss: 2.9124 - accuracy: 0.2166\n",
      "Epoch 00032: val_accuracy did not improve from 0.20976\n",
      "41/41 [==============================] - 84s 2s/step - loss: 2.9124 - accuracy: 0.2166 - val_loss: 2.9896 - val_accuracy: 0.2049\n",
      "Epoch 33/50\n",
      "41/41 [==============================] - ETA: 0s - loss: 2.9315 - accuracy: 0.2342\n",
      "Epoch 00033: val_accuracy did not improve from 0.20976\n",
      "41/41 [==============================] - 84s 2s/step - loss: 2.9315 - accuracy: 0.2342 - val_loss: 3.0442 - val_accuracy: 0.1951\n",
      "Epoch 34/50\n",
      "41/41 [==============================] - ETA: 0s - loss: 2.9318 - accuracy: 0.2151\n",
      "Epoch 00034: val_accuracy did not improve from 0.20976\n",
      "41/41 [==============================] - 84s 2s/step - loss: 2.9318 - accuracy: 0.2151 - val_loss: 3.4442 - val_accuracy: 0.0780\n",
      "Epoch 35/50\n",
      "41/41 [==============================] - ETA: 0s - loss: 2.8402 - accuracy: 0.2372\n",
      "Epoch 00035: val_accuracy improved from 0.20976 to 0.21463, saving model to model_checkpoints\\cp_rl.ckpt\n",
      "41/41 [==============================] - 83s 2s/step - loss: 2.8402 - accuracy: 0.2372 - val_loss: 3.0493 - val_accuracy: 0.2146\n",
      "Epoch 36/50\n",
      "41/41 [==============================] - ETA: 0s - loss: 2.7997 - accuracy: 0.2372\n",
      "Epoch 00036: val_accuracy did not improve from 0.21463\n",
      "41/41 [==============================] - 84s 2s/step - loss: 2.7997 - accuracy: 0.2372 - val_loss: 2.9709 - val_accuracy: 0.1805\n",
      "Epoch 37/50\n",
      "41/41 [==============================] - ETA: 0s - loss: 2.6947 - accuracy: 0.2777\n",
      "Epoch 00037: val_accuracy did not improve from 0.21463\n",
      "41/41 [==============================] - 83s 2s/step - loss: 2.6947 - accuracy: 0.2777 - val_loss: 2.9342 - val_accuracy: 0.2049\n",
      "Epoch 38/50\n",
      "41/41 [==============================] - ETA: 0s - loss: 2.7175 - accuracy: 0.2746\n",
      "Epoch 00038: val_accuracy improved from 0.21463 to 0.25366, saving model to model_checkpoints\\cp_rl.ckpt\n",
      "41/41 [==============================] - 85s 2s/step - loss: 2.7175 - accuracy: 0.2746 - val_loss: 2.7770 - val_accuracy: 0.2537\n",
      "Epoch 39/50\n",
      "41/41 [==============================] - ETA: 0s - loss: 2.8750 - accuracy: 0.2288\n",
      "Epoch 00039: val_accuracy did not improve from 0.25366\n",
      "41/41 [==============================] - 85s 2s/step - loss: 2.8750 - accuracy: 0.2288 - val_loss: 2.9253 - val_accuracy: 0.2146\n",
      "Epoch 40/50\n",
      "41/41 [==============================] - ETA: 0s - loss: 2.7229 - accuracy: 0.2517\n",
      "Epoch 00040: val_accuracy did not improve from 0.25366\n",
      "41/41 [==============================] - 85s 2s/step - loss: 2.7229 - accuracy: 0.2517 - val_loss: 2.8928 - val_accuracy: 0.2537\n",
      "Epoch 41/50\n",
      "41/41 [==============================] - ETA: 0s - loss: 2.6404 - accuracy: 0.2799\n",
      "Epoch 00041: val_accuracy improved from 0.25366 to 0.27317, saving model to model_checkpoints\\cp_rl.ckpt\n",
      "41/41 [==============================] - 88s 2s/step - loss: 2.6404 - accuracy: 0.2799 - val_loss: 2.8327 - val_accuracy: 0.2732\n",
      "Epoch 42/50\n",
      "41/41 [==============================] - ETA: 0s - loss: 2.6232 - accuracy: 0.2944\n",
      "Epoch 00042: val_accuracy did not improve from 0.27317\n",
      "41/41 [==============================] - 85s 2s/step - loss: 2.6232 - accuracy: 0.2944 - val_loss: 3.1215 - val_accuracy: 0.1902\n",
      "Epoch 43/50\n",
      "41/41 [==============================] - ETA: 0s - loss: 2.5488 - accuracy: 0.3135\n",
      "Epoch 00043: val_accuracy did not improve from 0.27317\n",
      "41/41 [==============================] - 88s 2s/step - loss: 2.5488 - accuracy: 0.3135 - val_loss: 2.9456 - val_accuracy: 0.2098\n",
      "Epoch 44/50\n",
      "41/41 [==============================] - ETA: 0s - loss: 2.5482 - accuracy: 0.3105\n",
      "Epoch 00044: val_accuracy did not improve from 0.27317\n",
      "41/41 [==============================] - 88s 2s/step - loss: 2.5482 - accuracy: 0.3105 - val_loss: 2.7674 - val_accuracy: 0.2732\n",
      "Epoch 45/50\n",
      "41/41 [==============================] - ETA: 0s - loss: 2.5441 - accuracy: 0.3127\n",
      "Epoch 00045: val_accuracy did not improve from 0.27317\n",
      "41/41 [==============================] - 90s 2s/step - loss: 2.5441 - accuracy: 0.3127 - val_loss: 3.2546 - val_accuracy: 0.1610\n",
      "Epoch 46/50\n",
      "41/41 [==============================] - ETA: 0s - loss: 2.5847 - accuracy: 0.2975\n",
      "Epoch 00046: val_accuracy improved from 0.27317 to 0.28293, saving model to model_checkpoints\\cp_rl.ckpt\n",
      "41/41 [==============================] - 85s 2s/step - loss: 2.5847 - accuracy: 0.2975 - val_loss: 2.7044 - val_accuracy: 0.2829\n",
      "Epoch 47/50\n",
      "41/41 [==============================] - ETA: 0s - loss: 2.4997 - accuracy: 0.3127\n",
      "Epoch 00047: val_accuracy did not improve from 0.28293\n",
      "41/41 [==============================] - 86s 2s/step - loss: 2.4997 - accuracy: 0.3127 - val_loss: 3.0831 - val_accuracy: 0.2293\n",
      "Epoch 48/50\n",
      "41/41 [==============================] - ETA: 0s - loss: 2.5544 - accuracy: 0.3036\n",
      "Epoch 00048: val_accuracy did not improve from 0.28293\n",
      "41/41 [==============================] - 86s 2s/step - loss: 2.5544 - accuracy: 0.3036 - val_loss: 2.9116 - val_accuracy: 0.2390\n",
      "Epoch 49/50\n",
      "41/41 [==============================] - ETA: 0s - loss: 2.4819 - accuracy: 0.3143\n",
      "Epoch 00049: val_accuracy did not improve from 0.28293\n",
      "41/41 [==============================] - 85s 2s/step - loss: 2.4819 - accuracy: 0.3143 - val_loss: 2.7412 - val_accuracy: 0.2585\n",
      "Epoch 50/50\n",
      "41/41 [==============================] - ETA: 0s - loss: 2.4985 - accuracy: 0.3211\n",
      "Epoch 00050: val_accuracy did not improve from 0.28293\n",
      "41/41 [==============================] - 84s 2s/step - loss: 2.4985 - accuracy: 0.3211 - val_loss: 2.6942 - val_accuracy: 0.2585\n"
     ]
    }
   ],
   "source": [
    "history = cnn_model.fit(x_train, y_train_one_hot, epochs=50, validation_data = (x_test, y_test_one_hot), callbacks=[cp_rl])"
   ]
  },
  {
   "cell_type": "code",
   "execution_count": 80,
   "id": "8f21d258",
   "metadata": {},
   "outputs": [],
   "source": [
    "X_for_RF = feature_extractor.predict(x_train)"
   ]
  },
  {
   "cell_type": "code",
   "execution_count": 81,
   "id": "7c59d6fe",
   "metadata": {},
   "outputs": [],
   "source": [
    "from sklearn.ensemble import RandomForestClassifier\n",
    "RF_model = RandomForestClassifier(n_estimators = 75, random_state = 42)"
   ]
  },
  {
   "cell_type": "code",
   "execution_count": 82,
   "id": "e599a837",
   "metadata": {},
   "outputs": [
    {
     "data": {
      "text/plain": [
       "RandomForestClassifier(n_estimators=75, random_state=42)"
      ]
     },
     "execution_count": 82,
     "metadata": {},
     "output_type": "execute_result"
    }
   ],
   "source": [
    "RF_model.fit(X_for_RF, y_train)"
   ]
  },
  {
   "cell_type": "code",
   "execution_count": 83,
   "id": "823763e2",
   "metadata": {},
   "outputs": [],
   "source": [
    "X_test_feature = feature_extractor.predict(x_test)"
   ]
  },
  {
   "cell_type": "code",
   "execution_count": 84,
   "id": "5a3ea6da",
   "metadata": {},
   "outputs": [
    {
     "name": "stdout",
     "output_type": "stream",
     "text": [
      "Accuracy =  0.8439024390243902\n"
     ]
    }
   ],
   "source": [
    "prediction_RF = RF_model.predict(X_test_feature)\n",
    "prediction_RF = le.inverse_transform(prediction_RF)\n",
    "from sklearn import metrics\n",
    "print (\"Accuracy = \", metrics.accuracy_score(test_labels, prediction_RF))"
   ]
  },
  {
   "cell_type": "code",
   "execution_count": 85,
   "id": "e9aada5c",
   "metadata": {},
   "outputs": [
    {
     "data": {
      "text/plain": [
       "['./random_forest.joblib']"
      ]
     },
     "execution_count": 85,
     "metadata": {},
     "output_type": "execute_result"
    }
   ],
   "source": [
    "import joblib\n",
    "joblib.dump(RF_model, \"./random_forest.joblib\", compress=3)"
   ]
  }
 ],
 "metadata": {
  "accelerator": "GPU",
  "colab": {
   "name": "pokedex_modelling.ipynb",
   "provenance": []
  },
  "kernelspec": {
   "display_name": "Python 3 (ipykernel)",
   "language": "python",
   "name": "python3"
  },
  "language_info": {
   "codemirror_mode": {
    "name": "ipython",
    "version": 3
   },
   "file_extension": ".py",
   "mimetype": "text/x-python",
   "name": "python",
   "nbconvert_exporter": "python",
   "pygments_lexer": "ipython3",
   "version": "3.9.9"
  }
 },
 "nbformat": 4,
 "nbformat_minor": 5
}
